{
 "cells": [
  {
   "cell_type": "code",
   "execution_count": 66,
   "metadata": {},
   "outputs": [],
   "source": [
    "import wordsegment\n",
    "import re\n",
    "from wordsegment import load, segment"
   ]
  },
  {
   "cell_type": "markdown",
   "metadata": {},
   "source": [
    "Flatten list"
   ]
  },
  {
   "cell_type": "code",
   "execution_count": 73,
   "metadata": {},
   "outputs": [],
   "source": [
    "def flat(l):\n",
    "    for k in l:\n",
    "        if not isinstance(k, (list, tuple)):\n",
    "            yield k\n",
    "        else:\n",
    "            yield from flat(k)"
   ]
  },
  {
   "cell_type": "code",
   "execution_count": 74,
   "metadata": {},
   "outputs": [],
   "source": [
    "load()\n",
    "s = '?Jana2028Iloveyou'\n",
    "s = re.findall(r'[0-9]+|[a-zA-Z]+|[^a-zA-Z0-9]+',s)\n",
    "passwdstring=[]\n",
    "for i in s:\n",
    "    templist = segment(i)\n",
    "    if(templist):\n",
    "        passwdstring.append(templist)\n",
    "    else:\n",
    "        passwdstring.append(i)\n",
    "#segment('thisisatest123Iloveyou')"
   ]
  },
  {
   "cell_type": "code",
   "execution_count": 85,
   "metadata": {},
   "outputs": [
    {
     "data": {
      "text/plain": [
       "['?', 'jan', 'a', '2028', 'i', 'love', 'you']"
      ]
     },
     "execution_count": 85,
     "metadata": {},
     "output_type": "execute_result"
    }
   ],
   "source": [
    "splittedpasswd = list(flat(passwdstring))\n",
    "splittedpasswd"
   ]
  },
  {
   "cell_type": "code",
   "execution_count": 76,
   "metadata": {},
   "outputs": [],
   "source": [
    "def insertChar(mystring, position, chartoinsert ):\n",
    "    longi = len(mystring)\n",
    "    mystring   =  mystring[:position] + chartoinsert + mystring[position:] \n",
    "    return mystring   "
   ]
  },
  {
   "cell_type": "code",
   "execution_count": 88,
   "metadata": {},
   "outputs": [
    {
     "data": {
      "text/plain": [
       "['?', 'Jan', 'a', '2028', 'I', 'love', 'you']"
      ]
     },
     "execution_count": 88,
     "metadata": {},
     "output_type": "execute_result"
    }
   ],
   "source": [
    "q = p = '?Jana2028Iloveyou'\n",
    "m = \" \".join(splittedpasswd)\n",
    "k=0\n",
    "for i in range(0,len(m)):\n",
    "    if(m[i]==\" \"):\n",
    "        j=i+k;\n",
    "        q = insertChar(q,j,' ')\n",
    "q.split()"
   ]
  },
  {
   "cell_type": "code",
   "execution_count": 82,
   "metadata": {},
   "outputs": [
    {
     "data": {
      "text/plain": [
       "'? jan a 2028 i love you'"
      ]
     },
     "execution_count": 82,
     "metadata": {},
     "output_type": "execute_result"
    }
   ],
   "source": [
    "Splittedword"
   ]
  },
  {
   "cell_type": "code",
   "execution_count": 20,
   "metadata": {},
   "outputs": [
    {
     "data": {
      "text/plain": [
       "range(0, 1)"
      ]
     },
     "execution_count": 20,
     "metadata": {},
     "output_type": "execute_result"
    }
   ],
   "source": [
    "range(1)"
   ]
  },
  {
   "cell_type": "code",
   "execution_count": null,
   "metadata": {},
   "outputs": [],
   "source": []
  }
 ],
 "metadata": {
  "kernelspec": {
   "display_name": "Python 3",
   "language": "python",
   "name": "python3"
  },
  "language_info": {
   "codemirror_mode": {
    "name": "ipython",
    "version": 3
   },
   "file_extension": ".py",
   "mimetype": "text/x-python",
   "name": "python",
   "nbconvert_exporter": "python",
   "pygments_lexer": "ipython3",
   "version": "3.7.1"
  }
 },
 "nbformat": 4,
 "nbformat_minor": 2
}
