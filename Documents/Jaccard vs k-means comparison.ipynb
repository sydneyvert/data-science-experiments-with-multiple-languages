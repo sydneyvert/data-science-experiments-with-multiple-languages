{
 "cells": [
  {
   "cell_type": "code",
   "execution_count": 1,
   "metadata": {},
   "outputs": [],
   "source": [
    "import pickle\n",
    "\n",
    "with open('../data/kmeansresults.pickle', 'rb') as f:\n",
    "    data = datatemp = pickle.load(f)\n",
    "data = data.reset_index(drop=True)"
   ]
  },
  {
   "cell_type": "code",
   "execution_count": 2,
   "metadata": {},
   "outputs": [],
   "source": [
    "import itertools \n",
    "\n",
    "def jaccard(a, b):\n",
    "    a = set(list(a))\n",
    "    b = set(list(b))\n",
    "    c = a.intersection(b)\n",
    "    return float(len(c)) / (len(a) + len(b) - len(c))"
   ]
  },
  {
   "cell_type": "code",
   "execution_count": 3,
   "metadata": {},
   "outputs": [],
   "source": [
    "import numpy as np\n",
    "l = len(data['plaintext'])\n",
    "# test for head 100 data\n",
    "l=100\n",
    "matrix = np.zeros((l, l))\n",
    "for index, row in data[0:100].iterrows():\n",
    "    # because it is a symmetric matrix\n",
    "    for i, r in data[index:100].iterrows():\n",
    "        matrix[index, i] = jaccard(data.iloc[index]['plaintext'], data.iloc[i]['plaintext'])\n",
    "matrix += matrix.T - np.diag(matrix.diagonal())"
   ]
  },
  {
   "cell_type": "code",
   "execution_count": 6,
   "metadata": {},
   "outputs": [
    {
     "name": "stdout",
     "output_type": "stream",
     "text": [
      "CPU times: user 26.9 ms, sys: 1.49 ms, total: 28.4 ms\n",
      "Wall time: 27.1 ms\n"
     ]
    }
   ],
   "source": [
    "from sklearn.cluster import KMeans\n",
    "# num of clusters depends on dataset \n",
    "num_clusters = 5\n",
    "km = KMeans(n_clusters=num_clusters)\n",
    "%time km.fit(matrix)\n",
    "clusters = km.labels_.tolist()"
   ]
  },
  {
   "cell_type": "code",
   "execution_count": 11,
   "metadata": {},
   "outputs": [
    {
     "name": "stdout",
     "output_type": "stream",
     "text": [
      "15         peter1111\n",
      "44         peter1987\n",
      "63            peter1\n",
      "83            peter2\n",
      "91    Peter123456789\n",
      "98          peter629\n",
      "Name: plaintext, dtype: object\n",
      "15    9\n",
      "44    9\n",
      "63    9\n",
      "83    9\n",
      "91    9\n",
      "98    9\n",
      "Name: K_means_cluster, dtype: int64\n"
     ]
    }
   ],
   "source": [
    "index = []\n",
    "for i in range(0,len(clusters)-1):\n",
    "    if clusters[i]==0:\n",
    "        index.append(i)\n",
    "h = 100\n",
    "print(data['plaintext'][index].head(100))\n",
    "print(data['K_means_cluster'][index].head(100))"
   ]
  },
  {
   "cell_type": "code",
   "execution_count": null,
   "metadata": {},
   "outputs": [],
   "source": []
  }
 ],
 "metadata": {
  "kernelspec": {
   "display_name": "Python 3",
   "language": "python",
   "name": "python3"
  },
  "language_info": {
   "codemirror_mode": {
    "name": "ipython",
    "version": 3
   },
   "file_extension": ".py",
   "mimetype": "text/x-python",
   "name": "python",
   "nbconvert_exporter": "python",
   "pygments_lexer": "ipython3",
   "version": "3.7.1"
  }
 },
 "nbformat": 4,
 "nbformat_minor": 2
}
