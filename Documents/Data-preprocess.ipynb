{
 "cells": [
  {
   "cell_type": "code",
   "execution_count": 1,
   "metadata": {},
   "outputs": [],
   "source": [
    "import pandas as pd\n",
    "import numpy as np"
   ]
  },
  {
   "cell_type": "code",
   "execution_count": 2,
   "metadata": {},
   "outputs": [],
   "source": [
    "data = pd.read_csv('../data/38650-password-sktorrent.txt', header=None)"
   ]
  },
  {
   "cell_type": "code",
   "execution_count": 3,
   "metadata": {},
   "outputs": [],
   "source": [
    "import re\n",
    "\n",
    "data.columns = ['original']\n",
    "    \n",
    "data['original'] = data['original'].astype(str)\n",
    "\n",
    "data[\"specialcharsplit\"] = \"\"\n",
    "data[\"extrawordsplit\"] = \"\"\n",
    "data[\"fixcapital\"] = \"\"\n",
    "\n"
   ]
  },
  {
   "cell_type": "code",
   "execution_count": 4,
   "metadata": {},
   "outputs": [],
   "source": [
    "import wordsegment as ws\n",
    "\n",
    "from wordsegment import load, segment\n",
    "\n",
    "load()\n",
    "  \n",
    "def flat(l):\n",
    "    for k in l:\n",
    "        if not isinstance(k, (list, tuple)):\n",
    "            yield k\n",
    "        else:\n",
    "            yield from flat(k)\n",
    "  \n",
    "for index, row in data.iterrows():\n",
    "  row['specialcharsplit'] = re.findall(r'[0-9]+|[a-zA-Z]+|[^a-zA-Z0-9]+',row['original'])\n",
    "  passwdstring=[]\n",
    "  for i in row['specialcharsplit']:\n",
    "     templist = segment(i)\n",
    "     if(templist):\n",
    "       passwdstring.append(templist)\n",
    "     else:\n",
    "       passwdstring.append(i)\n",
    "  row['extrawordsplit'] = list(flat(passwdstring))\n",
    "  \n"
   ]
  },
  {
   "cell_type": "code",
   "execution_count": 5,
   "metadata": {},
   "outputs": [],
   "source": [
    "def insertChar(mystring, position, chartoinsert ):\n",
    "    longi = len(mystring)\n",
    "    mystring   =  mystring[:position] + chartoinsert + mystring[position:] \n",
    "    return mystring   "
   ]
  },
  {
   "cell_type": "code",
   "execution_count": 6,
   "metadata": {},
   "outputs": [],
   "source": [
    "for index, row in data.iterrows():\n",
    "  row['specialcharsplit'] = re.findall(r'[0-9]+|[a-zA-Z]+|[^a-zA-Z0-9]+',row['original'])\n",
    "  passwdstring=[]\n",
    "  for i in row['specialcharsplit']:\n",
    "     templist = segment(i)\n",
    "     if(templist):\n",
    "       passwdstring.append(templist)\n",
    "     else:\n",
    "       passwdstring.append(i)\n",
    "  row['extrawordsplit'] = list(flat(passwdstring))"
   ]
  },
  {
   "cell_type": "code",
   "execution_count": 7,
   "metadata": {},
   "outputs": [],
   "source": [
    "data[\"fixcapital\"] = \"\"\n",
    "for index, row in data.iterrows():\n",
    "    temp = row['extrawordsplit']\n",
    "    mixwithspace = \" \".join(temp)\n",
    "    origin = row['original']\n",
    "    for i in range(0,len(mixwithspace)):\n",
    "        if(mixwithspace[i]==\" \"):\n",
    "            origin = insertChar(origin,i,\" \")\n",
    "    row[\"fixcapital\"] = origin"
   ]
  },
  {
   "cell_type": "code",
   "execution_count": 10,
   "metadata": {},
   "outputs": [],
   "source": [
    "import pickle\n",
    "with open('../data/data.pickle', 'wb') as f:\n",
    "    pickle.dump(data, f)"
   ]
  },
  {
   "cell_type": "code",
   "execution_count": 11,
   "metadata": {
    "scrolled": true
   },
   "outputs": [],
   "source": [
    "temp = \"\"\n",
    "for i in data['fixcapital']:\n",
    "    temp = temp +\" \"+i\n",
    "#temp"
   ]
  },
  {
   "cell_type": "markdown",
   "metadata": {},
   "source": [
    "Count frequency"
   ]
  },
  {
   "cell_type": "code",
   "execution_count": 14,
   "metadata": {},
   "outputs": [],
   "source": [
    "frequency_fixcaptial = {}\n",
    "for i in range(0,len(data['fixcapital'])):\n",
    "    for word in data['fixcapital'][i].split():\n",
    "        if word not in frequency_fixcaptial:\n",
    "            frequency_fixcaptial[word] = 1\n",
    "        else:\n",
    "            frequency_fixcaptial[word] += 1"
   ]
  },
  {
   "cell_type": "code",
   "execution_count": 16,
   "metadata": {
    "scrolled": true
   },
   "outputs": [],
   "source": [
    "frequency_fixcaptial = sorted(frequency_fixcaptial.items(),key = lambda item:item[1], reverse=True)"
   ]
  },
  {
   "cell_type": "code",
   "execution_count": 18,
   "metadata": {},
   "outputs": [],
   "source": [
    "temp=[]\n",
    "for i in range(0,len(data['specialcharsplit'])):\n",
    "    temp.append(\" \".join(data['specialcharsplit'][i]))\n",
    "\n",
    "frequency = {}\n",
    "for i in range(0,len(data['specialcharsplit'])):\n",
    "    for word in temp[i].split():\n",
    "        if word not in frequency:\n",
    "            frequency[word] = 1\n",
    "        else:\n",
    "            frequency[word] += 1"
   ]
  },
  {
   "cell_type": "code",
   "execution_count": 19,
   "metadata": {},
   "outputs": [],
   "source": [
    "frequency = sorted(frequency.items(),key = lambda item:item[1], reverse=True)"
   ]
  },
  {
   "cell_type": "code",
   "execution_count": null,
   "metadata": {},
   "outputs": [],
   "source": []
  }
 ],
 "metadata": {
  "kernelspec": {
   "display_name": "Python 3",
   "language": "python",
   "name": "python3"
  },
  "language_info": {
   "codemirror_mode": {
    "name": "ipython",
    "version": 3
   },
   "file_extension": ".py",
   "mimetype": "text/x-python",
   "name": "python",
   "nbconvert_exporter": "python",
   "pygments_lexer": "ipython3",
   "version": "3.7.1"
  }
 },
 "nbformat": 4,
 "nbformat_minor": 2
}
