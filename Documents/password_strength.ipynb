{
 "cells": [
  {
   "cell_type": "markdown",
   "metadata": {},
   "source": [
    "From: https://stackoverflow.com/questions/16709638/checking-the-strength-of-a-password-how-to-check-conditions"
   ]
  },
  {
   "cell_type": "code",
   "execution_count": 3,
   "metadata": {},
   "outputs": [
    {
     "data": {
      "text/plain": [
       "False"
      ]
     },
     "execution_count": 3,
     "metadata": {},
     "output_type": "execute_result"
    }
   ],
   "source": [
    "'AAabc'.islower()"
   ]
  },
  {
   "cell_type": "code",
   "execution_count": 4,
   "metadata": {},
   "outputs": [],
   "source": [
    "def password(password):\n",
    "\n",
    "    weak = 'weak'\n",
    "    med = 'medium'\n",
    "    strong = 'strong'\n",
    "\n",
    "    if len(password) >12:\n",
    "        print ('password is too long It must be between 6 and 12 characters')\n",
    "\n",
    "    elif len(password) <6:\n",
    "        print ('password is too short It must be between 6 and 12 characters')\n",
    "\n",
    "\n",
    "    elif len(password)    >=6 and len(password) <= 12:\n",
    "        print ('password ok')\n",
    "\n",
    "        if password.lower()== password or password.upper()==password or password.isalnum()==password:\n",
    "            print ('password is', weak)\n",
    "\n",
    "        elif password.lower()== password and password.upper()==password or password.isalnum()==password:\n",
    "            print ('password is', med)\n",
    "\n",
    "        else:\n",
    "            password.lower()== password and password.upper()==password and password.isalnum()==password\n",
    "            print ('password is', strong)"
   ]
  },
  {
   "cell_type": "code",
   "execution_count": 14,
   "metadata": {},
   "outputs": [
    {
     "name": "stdout",
     "output_type": "stream",
     "text": [
      "password is too long It must be between 6 and 12 characters\n"
     ]
    }
   ],
   "source": [
    "password('qwe*t$tyu)*^iop')"
   ]
  },
  {
   "cell_type": "markdown",
   "metadata": {},
   "source": [
    "Do something for making a judgement if a passwd strong or not based on our training set?\n",
    "Or think about a passwd is easy to be remembered or not?\n",
    "Or strong and easy to be remembered\n",
    "Combine all the passwd data as a document to get the topics?\n",
    "Maybe different datasets contain different topics or different passwd strength"
   ]
  }
 ],
 "metadata": {
  "kernelspec": {
   "display_name": "Python 3",
   "language": "python",
   "name": "python3"
  },
  "language_info": {
   "codemirror_mode": {
    "name": "ipython",
    "version": 3
   },
   "file_extension": ".py",
   "mimetype": "text/x-python",
   "name": "python",
   "nbconvert_exporter": "python",
   "pygments_lexer": "ipython3",
   "version": "3.7.1"
  }
 },
 "nbformat": 4,
 "nbformat_minor": 2
}
